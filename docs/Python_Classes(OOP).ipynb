{
  "nbformat": 4,
  "nbformat_minor": 0,
  "metadata": {
    "colab": {
      "provenance": []
    },
    "kernelspec": {
      "name": "python3",
      "display_name": "Python 3"
    },
    "language_info": {
      "name": "python"
    }
  },
  "cells": [
    {
      "cell_type": "markdown",
      "source": [
        "#1) What is a class?\n"
      ],
      "metadata": {
        "id": "C0tzfk6sT7z3"
      }
    },
    {
      "cell_type": "markdown",
      "source": [
        "If you want to build multiple cars, you don't write instructions from scratch everytime---  you use a blueprint"
      ],
      "metadata": {
        "id": "pTyFuFO5UB8k"
      }
    },
    {
      "cell_type": "code",
      "execution_count": 23,
      "metadata": {
        "id": "jz0gLkvyTy4p"
      },
      "outputs": [],
      "source": [
        "class Car:\n",
        "  pass"
      ]
    },
    {
      "cell_type": "markdown",
      "source": [
        "This defined a class called `Car`. It doesn't do anything yet-- it's just an empty plan."
      ],
      "metadata": {
        "id": "G7vo8kz6UOGh"
      }
    },
    {
      "cell_type": "code",
      "source": [],
      "metadata": {
        "id": "uyy-EBUHVZFe"
      },
      "execution_count": 23,
      "outputs": []
    },
    {
      "cell_type": "markdown",
      "source": [
        "# 2) Creating an Object"
      ],
      "metadata": {
        "id": "uu33KP4DUbol"
      }
    },
    {
      "cell_type": "markdown",
      "source": [
        "You use the blueprint to create real things --- **objects**"
      ],
      "metadata": {
        "id": "UQ02jBIFUoxO"
      }
    },
    {
      "cell_type": "code",
      "source": [
        "my_car = Car()"
      ],
      "metadata": {
        "id": "vmbTKgMCUM43"
      },
      "execution_count": 24,
      "outputs": []
    },
    {
      "cell_type": "markdown",
      "source": [
        "Now `my_car` is an object (or instance) of the `Car` class. You can make more cars."
      ],
      "metadata": {
        "id": "Gs4T0VVCUxaA"
      }
    },
    {
      "cell_type": "code",
      "source": [
        "another_car = Car()"
      ],
      "metadata": {
        "id": "cB6wbMeUUwiH"
      },
      "execution_count": 25,
      "outputs": []
    },
    {
      "cell_type": "code",
      "source": [],
      "metadata": {
        "id": "kGvMglRKVZrh"
      },
      "execution_count": 25,
      "outputs": []
    },
    {
      "cell_type": "markdown",
      "source": [
        "# 3) Add Data with the `__init__` Method"
      ],
      "metadata": {
        "id": "fQVuRmQTU6sX"
      }
    },
    {
      "cell_type": "markdown",
      "source": [
        "Let's give each car some info, like color or brand."
      ],
      "metadata": {
        "id": "Dpe_Iwt8VAib"
      }
    },
    {
      "cell_type": "code",
      "source": [
        "class Car:\n",
        "  def __init__(self, brand, color):\n",
        "    self.brand = brand\n",
        "    self.color = color"
      ],
      "metadata": {
        "id": "76BoAzeSU5XU"
      },
      "execution_count": 26,
      "outputs": []
    },
    {
      "cell_type": "markdown",
      "source": [
        "`__init__`: Special method that runs when an object is created.\n",
        "\n",
        "`self`: Refers to the current object.\n",
        "\n",
        "`self.brand = brand`: Saves the brand info in the object."
      ],
      "metadata": {
        "id": "YLggn16dVLab"
      }
    },
    {
      "cell_type": "code",
      "source": [
        "# Now create a car:\n",
        "\n",
        "my_car = Car(\"Toyota\", \"Red\")\n",
        "print(my_car.brand)\n",
        "print(my_car.color)"
      ],
      "metadata": {
        "colab": {
          "base_uri": "https://localhost:8080/"
        },
        "id": "d0fcst51VKpt",
        "outputId": "dd30a425-159f-4568-858e-aa93c020838c"
      },
      "execution_count": 27,
      "outputs": [
        {
          "output_type": "stream",
          "name": "stdout",
          "text": [
            "Toyota\n",
            "Red\n"
          ]
        }
      ]
    },
    {
      "cell_type": "code",
      "source": [],
      "metadata": {
        "id": "ljEjQP9vVmuz"
      },
      "execution_count": 27,
      "outputs": []
    },
    {
      "cell_type": "markdown",
      "source": [
        "# 4) Add Behavior (Methods)"
      ],
      "metadata": {
        "id": "IcUcxzbgVsey"
      }
    },
    {
      "cell_type": "markdown",
      "source": [
        "Classes can do things. Let's add a method."
      ],
      "metadata": {
        "id": "L3dCHTTwVxby"
      }
    },
    {
      "cell_type": "code",
      "source": [
        "class Car:\n",
        "  def __init__(self, brand, color):\n",
        "    self.brand = brand\n",
        "    self.color = color\n",
        "\n",
        "  def drive(self):\n",
        "    print(f\"The {self.color} {self.brand} is driving\")\n"
      ],
      "metadata": {
        "id": "4hKbskiTVwbq"
      },
      "execution_count": 28,
      "outputs": []
    },
    {
      "cell_type": "code",
      "source": [
        "# Use the method\n",
        "\n",
        "my_car = Car(\"Honda\", \"white\")\n",
        "my_car.drive()"
      ],
      "metadata": {
        "colab": {
          "base_uri": "https://localhost:8080/"
        },
        "id": "BN829J30WCJF",
        "outputId": "653ac904-adc0-49a8-eeb9-7b4413899c16"
      },
      "execution_count": 29,
      "outputs": [
        {
          "output_type": "stream",
          "name": "stdout",
          "text": [
            "The white Honda is driving\n"
          ]
        }
      ]
    },
    {
      "cell_type": "code",
      "source": [],
      "metadata": {
        "id": "vjBYEcw7WJfj"
      },
      "execution_count": 29,
      "outputs": []
    },
    {
      "cell_type": "markdown",
      "source": [
        "# 5) Add more Logic"
      ],
      "metadata": {
        "id": "bilu68-mWLwn"
      }
    },
    {
      "cell_type": "markdown",
      "source": [
        "You can store static (info) and make changes:"
      ],
      "metadata": {
        "id": "tonvVrdLWPUF"
      }
    },
    {
      "cell_type": "code",
      "source": [
        "class Car:\n",
        "  def __init__(self, brand, color):\n",
        "    self.brand = brand\n",
        "    self.color = color\n",
        "    self.speed = 0\n",
        "\n",
        "  def accelerate(self):\n",
        "    self.speed += 10\n",
        "    print(f\"{self.brand} speed is now {self.speed} km/h.\")\n",
        "\n",
        "  def drive(self):\n",
        "    print(f\"{self.brand} is driving\")"
      ],
      "metadata": {
        "id": "rB6V71awWNru"
      },
      "execution_count": 37,
      "outputs": []
    },
    {
      "cell_type": "code",
      "source": [
        "# Use the method again\n",
        "\n",
        "my_car = Car(\"Ferrari\", \"Red\")\n",
        "my_car.accelerate()"
      ],
      "metadata": {
        "colab": {
          "base_uri": "https://localhost:8080/"
        },
        "id": "H5C5KF8IWje7",
        "outputId": "fdcefc24-b0f9-4a45-8bd6-4bfd977b0cf8"
      },
      "execution_count": 38,
      "outputs": [
        {
          "output_type": "stream",
          "name": "stdout",
          "text": [
            "Ferrari speed is now 10 km/h.\n"
          ]
        }
      ]
    },
    {
      "cell_type": "code",
      "source": [
        "my_car.accelerate()"
      ],
      "metadata": {
        "colab": {
          "base_uri": "https://localhost:8080/"
        },
        "id": "ElZ5MCcxWvRH",
        "outputId": "bfedf647-36da-417b-ec6c-066424c0deab"
      },
      "execution_count": 39,
      "outputs": [
        {
          "output_type": "stream",
          "name": "stdout",
          "text": [
            "Ferrari speed is now 20 km/h.\n"
          ]
        }
      ]
    },
    {
      "cell_type": "code",
      "source": [],
      "metadata": {
        "id": "-wSmt3UTW5d6"
      },
      "execution_count": 39,
      "outputs": []
    },
    {
      "cell_type": "markdown",
      "source": [
        "# 6) Inheritance"
      ],
      "metadata": {
        "id": "br_ElMCFXAWY"
      }
    },
    {
      "cell_type": "markdown",
      "source": [
        "Now you can make new classes based on old ones."
      ],
      "metadata": {
        "id": "zi4nTWASXFdJ"
      }
    },
    {
      "cell_type": "code",
      "source": [
        "class ElectricCar(Car):\n",
        "  def charge(self):\n",
        "    print(f\"{self.brand} is charging.\")"
      ],
      "metadata": {
        "id": "0amYbmeGXCYJ"
      },
      "execution_count": 40,
      "outputs": []
    },
    {
      "cell_type": "code",
      "source": [
        "# let's call the new class\n",
        "\n",
        "tesla = ElectricCar(\"Tesla\", \"black\")\n",
        "tesla.charge()"
      ],
      "metadata": {
        "colab": {
          "base_uri": "https://localhost:8080/"
        },
        "id": "0Y8fTepVXQah",
        "outputId": "df53b521-7c5c-4435-926c-b2481ec1fa3d"
      },
      "execution_count": 41,
      "outputs": [
        {
          "output_type": "stream",
          "name": "stdout",
          "text": [
            "Tesla is charging.\n"
          ]
        }
      ]
    },
    {
      "cell_type": "code",
      "source": [
        "tesla.accelerate()"
      ],
      "metadata": {
        "colab": {
          "base_uri": "https://localhost:8080/"
        },
        "id": "fpZHVjQLXaPp",
        "outputId": "eeaad561-0f93-4257-8cab-dd4f19af15f2"
      },
      "execution_count": 42,
      "outputs": [
        {
          "output_type": "stream",
          "name": "stdout",
          "text": [
            "Tesla speed is now 10 km/h.\n"
          ]
        }
      ]
    },
    {
      "cell_type": "code",
      "source": [
        "tesla.drive()"
      ],
      "metadata": {
        "colab": {
          "base_uri": "https://localhost:8080/"
        },
        "id": "6XRy9JO7Xbtm",
        "outputId": "a48942e7-f9c4-40c3-eb30-0943100f01de"
      },
      "execution_count": 43,
      "outputs": [
        {
          "output_type": "stream",
          "name": "stdout",
          "text": [
            "Tesla is driving\n"
          ]
        }
      ]
    },
    {
      "cell_type": "code",
      "source": [],
      "metadata": {
        "id": "0eUjJyDdXn4D"
      },
      "execution_count": 43,
      "outputs": []
    },
    {
      "cell_type": "markdown",
      "source": [
        "# 7) Polymorphism (Same Method, Different Behavior)"
      ],
      "metadata": {
        "id": "R_mYbj62Yf9T"
      }
    },
    {
      "cell_type": "code",
      "source": [
        "class Animal:\n",
        "  def speak(self):\n",
        "    print(\"some sound\")\n",
        "\n",
        "class Dog(Animal):\n",
        "  def speak(self):\n",
        "    print(\"woof!\")\n",
        "\n",
        "class Cat(Animal):\n",
        "  def speak(self):\n",
        "    print(\"Meow!\")\n",
        ""
      ],
      "metadata": {
        "id": "gpJKJPojYoRW"
      },
      "execution_count": 44,
      "outputs": []
    },
    {
      "cell_type": "code",
      "source": [
        "animals = [Dog(), Cat(), Animal()]\n",
        "for a in animals:\n",
        "  a.speak()"
      ],
      "metadata": {
        "colab": {
          "base_uri": "https://localhost:8080/"
        },
        "id": "JW0QxglaZDd8",
        "outputId": "4cff4d11-1bff-4e62-d594-ac04d673fa6b"
      },
      "execution_count": 45,
      "outputs": [
        {
          "output_type": "stream",
          "name": "stdout",
          "text": [
            "woof!\n",
            "Meow!\n",
            "some sound\n"
          ]
        }
      ]
    },
    {
      "cell_type": "markdown",
      "source": [
        "###🤔 So Does Dog or Cat Overwrite Animal?\n",
        "Not exactly. Here's what actually happens:\n",
        "\n",
        "The Dog class inherits from Animal, meaning it starts with all of Animal's attributes and methods.\n",
        "\n",
        "When you define `speak()` again in Dog, this is called overriding the method.\n",
        "\n",
        "It does not overwrite the method in Animal; it replaces it only for objects of type Dog.\n",
        "\n",
        "So when Python sees `a.speak()`:\n",
        "\n",
        "It checks the actual class of a.\n",
        "\n",
        "If a is a Dog, it checks if Dog has a `speak()` method.\n",
        "\n",
        "If found, it runs that and ignores the parent version.\n",
        "\n",
        "If not found, it moves up to the parent, Animal, and uses that version.\n",
        "\n",
        "\n"
      ],
      "metadata": {
        "id": "lWFBZI_oZzgb"
      }
    },
    {
      "cell_type": "markdown",
      "source": [
        "\n",
        "###🧬 Visualizing the Lookup (Method Resolution Order - MRO)\n",
        "```plaintext\n",
        "Dog().speak()\n",
        "↓\n",
        "Look in Dog → Found! Use Dog's speak()\n",
        "\n",
        "\n",
        "Cat().speak()\n",
        "↓\n",
        "Look in Cat → Found! Use Cat's speak()\n",
        "\n",
        "Animal().speak()\n",
        "↓\n",
        "Look in Animal → Found! Use Animal's speak()\n",
        "\n",
        "✅ Key Concept: Method Overriding ≠ Overwriting\n",
        "Animal.speak() still exists.\n",
        "\n",
        "```\n",
        "Dog and Cat just override it when their own version is called.\n",
        "\n",
        "**This is the power of polymorphism—different behaviors for the same method name depending on the actual object type.**\n",
        "\n"
      ],
      "metadata": {
        "id": "EzgcQi7BaI_E"
      }
    },
    {
      "cell_type": "code",
      "source": [],
      "metadata": {
        "id": "lqAiBfbgZImP"
      },
      "execution_count": null,
      "outputs": []
    },
    {
      "cell_type": "markdown",
      "source": [
        "# 8) Encapsulation"
      ],
      "metadata": {
        "id": "1OvWxTjDbAL6"
      }
    },
    {
      "cell_type": "markdown",
      "source": [
        "Encapsulation means hiding the internal details of how an object works and exposing only what's necessary through public methods.\n",
        "\n",
        "It helps:\n",
        "\n",
        "* Prevent accidental changes to internal data\n",
        "\n",
        "* Control access with getter/setter methods\n",
        "\n",
        "* Make code easier to maintain and debug\n",
        "\n"
      ],
      "metadata": {
        "id": "z0a-FvpUbEw8"
      }
    },
    {
      "cell_type": "code",
      "source": [
        "class BankAccount:\n",
        "  def __init__(self, balance):\n",
        "    self.__balance = balance # Private variable\n",
        "\n",
        "  def deposit(self, amount):\n",
        "    self.__balance += amount\n",
        "\n",
        "  def get_balance(self):\n",
        "    return self.__balance"
      ],
      "metadata": {
        "id": "tbCTsJ3QbB_v"
      },
      "execution_count": 60,
      "outputs": []
    },
    {
      "cell_type": "code",
      "source": [
        "acct = BankAccount(100)\n",
        "acct.deposit(50)\n",
        "print(acct.get_balance())"
      ],
      "metadata": {
        "colab": {
          "base_uri": "https://localhost:8080/"
        },
        "id": "6-NndUYDbWwZ",
        "outputId": "a2ff9c06-cedb-4df6-d9ad-c43e3d09ea6c"
      },
      "execution_count": 61,
      "outputs": [
        {
          "output_type": "stream",
          "name": "stdout",
          "text": [
            "150\n"
          ]
        }
      ]
    },
    {
      "cell_type": "code",
      "source": [],
      "metadata": {
        "id": "qgb6BACVcdN_"
      },
      "execution_count": null,
      "outputs": []
    },
    {
      "cell_type": "markdown",
      "source": [
        "##✅ Object-Oriented Programming Core Pillars (OOP Summary)\n",
        "\n",
        "**Encapsulation** – Hiding the data (like private balance)\n",
        "\n",
        "**Inheritance** – Child class inherits from a parent\n",
        "\n",
        "**Polymorphism** – Same method name, different behavior\n",
        "\n",
        "**Abstraction** – Hiding complexity and showing only essentials"
      ],
      "metadata": {
        "id": "XRNMc5IidPiG"
      }
    },
    {
      "cell_type": "code",
      "source": [],
      "metadata": {
        "id": "YsLJ6HTldg7H"
      },
      "execution_count": null,
      "outputs": []
    }
  ]
}