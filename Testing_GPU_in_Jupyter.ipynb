{
 "cells": [
  {
   "cell_type": "markdown",
   "id": "621f7dae-3a0c-4b33-822f-7f90011edc5e",
   "metadata": {},
   "source": [
    "## Running the jupyter notebook on GPU"
   ]
  },
  {
   "cell_type": "code",
   "execution_count": 1,
   "id": "6abe1289-34e8-44c8-80e2-0ca81be33f8e",
   "metadata": {},
   "outputs": [
    {
     "name": "stdout",
     "output_type": "stream",
     "text": [
      "2.4.1\n",
      "11.8\n",
      "True\n",
      "NVIDIA GeForce RTX 4090 Laptop GPU\n"
     ]
    }
   ],
   "source": [
    "import torch\n",
    "print(torch.__version__)\n",
    "print(torch.version.cuda)\n",
    "print(torch.cuda.is_available())\n",
    "print(torch.cuda.get_device_name(0))\n"
   ]
  },
  {
   "cell_type": "code",
   "execution_count": null,
   "id": "04c99336-7bd7-4670-adf8-0f35391ac7cf",
   "metadata": {},
   "outputs": [],
   "source": []
  },
  {
   "cell_type": "code",
   "execution_count": null,
   "id": "ca65eb9b-0ace-4512-adc7-12e1b3dffd72",
   "metadata": {},
   "outputs": [],
   "source": []
  },
  {
   "cell_type": "code",
   "execution_count": null,
   "id": "9a49913f-68f3-4b02-8adc-3488f6424c35",
   "metadata": {},
   "outputs": [],
   "source": []
  },
  {
   "cell_type": "markdown",
   "id": "c3a2e56d-1c9f-418d-a347-9b10ad0cb2f5",
   "metadata": {},
   "source": [
    " ### GPUtil is a Python module for getting the GPU status from NVIDA GPUs using nvidia-smi."
   ]
  },
  {
   "cell_type": "code",
   "execution_count": 26,
   "id": "cc76d6f9-4982-40ec-b925-011b764f4608",
   "metadata": {},
   "outputs": [
    {
     "name": "stdout",
     "output_type": "stream",
     "text": [
      "Collecting GPUtil\n",
      "  Downloading GPUtil-1.4.0.tar.gz (5.5 kB)\n",
      "  Preparing metadata (setup.py): started\n",
      "  Preparing metadata (setup.py): finished with status 'done'\n",
      "Building wheels for collected packages: GPUtil\n",
      "  Building wheel for GPUtil (setup.py): started\n",
      "  Building wheel for GPUtil (setup.py): finished with status 'done'\n",
      "  Created wheel for GPUtil: filename=GPUtil-1.4.0-py3-none-any.whl size=7401 sha256=232218d22e076a53c47b904dde4379881068093ebbfa96d86b248fb36e3f54d0\n",
      "  Stored in directory: c:\\users\\abhis\\appdata\\local\\pip\\cache\\wheels\\ba\\03\\bb\\7a97840eb54479b328672e15a536e49dc60da200fb21564d53\n",
      "Successfully built GPUtil\n",
      "Installing collected packages: GPUtil\n",
      "Successfully installed GPUtil-1.4.0\n",
      "Note: you may need to restart the kernel to use updated packages.\n"
     ]
    }
   ],
   "source": [
    "pip install GPUtil"
   ]
  },
  {
   "cell_type": "code",
   "execution_count": null,
   "id": "595df326-050f-4596-9bc4-cfcdc12f7142",
   "metadata": {},
   "outputs": [],
   "source": []
  },
  {
   "cell_type": "code",
   "execution_count": null,
   "id": "914074c6-9f47-42df-bee9-d196f329ffcc",
   "metadata": {},
   "outputs": [],
   "source": []
  },
  {
   "cell_type": "code",
   "execution_count": null,
   "id": "600b1fee-1bfa-4bd0-8ab7-37807996cf90",
   "metadata": {},
   "outputs": [],
   "source": []
  },
  {
   "cell_type": "code",
   "execution_count": null,
   "id": "7f2c8572-ff09-409a-bbf2-b77dbd1767a2",
   "metadata": {},
   "outputs": [],
   "source": []
  },
  {
   "cell_type": "markdown",
   "id": "d079d66b-a908-41df-967f-e8ede6ce72f5",
   "metadata": {},
   "source": [
    "## ✅ GPU Stress Test & Benchmark Program (PyTorch)\n",
    "This script:\n",
    "\n",
    "* Trains a simple CNN on a synthetic dataset (no downloads needed).\n",
    "\n",
    "* Runs on GPU (if available).\n",
    "\n",
    "* Prints training time per epoch, GPU memory usage, and total throughput.\n",
    "\n",
    "## 📈 What You'll See\n",
    "* Epoch-wise speed (in seconds).\n",
    "\n",
    "* Accuracy (based on synthetic labels — so low is okay).\n",
    "\n",
    "* Total GPU training time.\n",
    "\n",
    "* Memory usage and GPU load (optional with GPUtil)."
   ]
  },
  {
   "cell_type": "code",
   "execution_count": 27,
   "id": "7aaa8381-ee5a-497a-9de5-a11f56620641",
   "metadata": {},
   "outputs": [
    {
     "name": "stdout",
     "output_type": "stream",
     "text": [
      "Using device: cuda\n",
      "Epoch 1/5 - Loss: 182.64 - Accuracy: 0.0995 - Time: 1.88s\n",
      "Epoch 2/5 - Loss: 181.89 - Accuracy: 0.1013 - Time: 0.77s\n",
      "Epoch 3/5 - Loss: 181.76 - Accuracy: 0.1089 - Time: 0.79s\n",
      "Epoch 4/5 - Loss: 180.32 - Accuracy: 0.1433 - Time: 0.79s\n",
      "Epoch 5/5 - Loss: 173.15 - Accuracy: 0.2093 - Time: 0.80s\n",
      "\n",
      "⏱️ Total Training Time: 5.03s\n",
      "\n",
      "📊 GPU Utilization Report for NVIDIA GeForce RTX 4090 Laptop GPU\n",
      "  Load       : 32.0%\n",
      "  Memory Used: 1208.0 MB / 16376.0 MB\n",
      "  Temp       : 49.0 °C\n"
     ]
    }
   ],
   "source": [
    "import torch\n",
    "import torch.nn as nn\n",
    "import torch.nn.functional as F\n",
    "from torch.utils.data import DataLoader, TensorDataset\n",
    "import time\n",
    "import numpy as np\n",
    "import GPUtil  # Optional, for memory usage\n",
    "\n",
    "# ✅ Use GPU if available\n",
    "device = torch.device(\"cuda\" if torch.cuda.is_available() else \"cpu\")\n",
    "print(f\"Using device: {device}\")\n",
    "\n",
    "# ✅ Create synthetic image dataset (28x28 like MNIST)\n",
    "X = torch.randn(10000, 1, 28, 28)\n",
    "y = torch.randint(0, 10, (10000,))\n",
    "\n",
    "dataset = TensorDataset(X, y)\n",
    "loader = DataLoader(dataset, batch_size=128, shuffle=True)\n",
    "\n",
    "# ✅ Define a small CNN\n",
    "class TestNet(nn.Module):\n",
    "    def __init__(self):\n",
    "        super(TestNet, self).__init__()\n",
    "        self.conv1 = nn.Conv2d(1, 32, kernel_size=3)\n",
    "        self.conv2 = nn.Conv2d(32, 64, kernel_size=3)\n",
    "        self.fc1 = nn.Linear(64 * 12 * 12, 128)\n",
    "        self.fc2 = nn.Linear(128, 10)\n",
    "\n",
    "    def forward(self, x):\n",
    "        x = F.relu(self.conv1(x))\n",
    "        x = F.relu(self.conv2(x))\n",
    "        x = F.max_pool2d(x, 2)\n",
    "        x = torch.flatten(x, 1)\n",
    "        x = F.relu(self.fc1(x))\n",
    "        return self.fc2(x)\n",
    "\n",
    "model = TestNet().to(device)\n",
    "optimizer = torch.optim.Adam(model.parameters(), lr=0.001)\n",
    "criterion = nn.CrossEntropyLoss()\n",
    "\n",
    "# ✅ Train and time each epoch\n",
    "epochs = 5\n",
    "total_start = time.time()\n",
    "\n",
    "for epoch in range(epochs):\n",
    "    start = time.time()\n",
    "    model.train()\n",
    "    total_loss = 0\n",
    "    correct = 0\n",
    "\n",
    "    for inputs, labels in loader:\n",
    "        inputs, labels = inputs.to(device), labels.to(device)\n",
    "\n",
    "        optimizer.zero_grad()\n",
    "        outputs = model(inputs)\n",
    "        loss = criterion(outputs, labels)\n",
    "        loss.backward()\n",
    "        optimizer.step()\n",
    "\n",
    "        total_loss += loss.item()\n",
    "        pred = outputs.argmax(dim=1)\n",
    "        correct += (pred == labels).sum().item()\n",
    "\n",
    "    end = time.time()\n",
    "    accuracy = correct / len(dataset)\n",
    "    print(f\"Epoch {epoch+1}/{epochs} - Loss: {total_loss:.2f} - Accuracy: {accuracy:.4f} - Time: {end - start:.2f}s\")\n",
    "\n",
    "total_end = time.time()\n",
    "print(f\"\\n⏱️ Total Training Time: {total_end - total_start:.2f}s\")\n",
    "\n",
    "# ✅ (Optional) Show GPU memory stats\n",
    "try:\n",
    "    gpus = GPUtil.getGPUs()\n",
    "    for gpu in gpus:\n",
    "        print(f\"\\n📊 GPU Utilization Report for {gpu.name}\")\n",
    "        print(f\"  Load       : {gpu.load * 100:.1f}%\")\n",
    "        print(f\"  Memory Used: {gpu.memoryUsed} MB / {gpu.memoryTotal} MB\")\n",
    "        print(f\"  Temp       : {gpu.temperature} °C\")\n",
    "except:\n",
    "    print(\"Install GPUtil via: pip install gputil\")\n"
   ]
  },
  {
   "cell_type": "code",
   "execution_count": null,
   "id": "b5dc0b52-aefb-4826-a447-5db6a9278d82",
   "metadata": {},
   "outputs": [],
   "source": []
  },
  {
   "cell_type": "code",
   "execution_count": null,
   "id": "c05a165a-7498-44f6-b38f-d743318f9eb0",
   "metadata": {},
   "outputs": [],
   "source": []
  },
  {
   "cell_type": "code",
   "execution_count": null,
   "id": "2bdb20c0-e0fe-4aff-90c4-7001f5677830",
   "metadata": {},
   "outputs": [],
   "source": []
  },
  {
   "cell_type": "code",
   "execution_count": null,
   "id": "b9b08567-0897-40db-bbd1-c2714b3d2af2",
   "metadata": {},
   "outputs": [],
   "source": []
  },
  {
   "cell_type": "code",
   "execution_count": null,
   "id": "4eb9a317-04df-4260-a997-de31749b24d5",
   "metadata": {},
   "outputs": [],
   "source": []
  },
  {
   "cell_type": "code",
   "execution_count": null,
   "id": "99cef24d-b908-45e9-9c44-4de7de084bd9",
   "metadata": {},
   "outputs": [],
   "source": []
  },
  {
   "cell_type": "code",
   "execution_count": null,
   "id": "078608cd-09d1-413c-b4ef-21d612eeef38",
   "metadata": {},
   "outputs": [],
   "source": []
  },
  {
   "cell_type": "code",
   "execution_count": null,
   "id": "c6a93776-4cf2-4eb7-bddc-0172c89c58fc",
   "metadata": {},
   "outputs": [],
   "source": []
  },
  {
   "cell_type": "markdown",
   "id": "d342d9fe-85f9-4d87-bbc1-9bf3b34ab50f",
   "metadata": {},
   "source": [
    "## let’s push your GPU harder by training a larger and deeper model on a real dataset, such as CIFAR-10 with ResNet18.\n",
    "\n",
    "This test will:\n",
    "\n",
    "* Load CIFAR-10 from torchvision.datasets (~60,000 images).\n",
    "\n",
    "* Use ResNet18 (a popular, deeper CNN).\n",
    "\n",
    "* Train for several epochs to saturate GPU load.\n",
    "\n",
    "* Show timing, GPU usage, and performance metrics.\n",
    "\n",
    "\n",
    "## 🧠 What You’ll Get\n",
    "* Total training time per epoch (heavier load).\n",
    "\n",
    "* Accuracy improvement over time.\n",
    "\n",
    "* GPU memory and utilization stats.\n",
    "\n",
    "* Significant stress on your GPU (compared to synthetic tests).\n",
    "\n",
    "\n"
   ]
  },
  {
   "cell_type": "code",
   "execution_count": 29,
   "id": "1402aa1d-a939-4cd0-87dd-4f77de672371",
   "metadata": {},
   "outputs": [
    {
     "name": "stdout",
     "output_type": "stream",
     "text": [
      "🖥️ Using device: cuda\n",
      "Files already downloaded and verified\n",
      "Epoch [1/20] - Loss: 533.86 - Accuracy: 50.78% - Time: 36.46s\n",
      "Epoch [2/20] - Loss: 376.90 - Accuracy: 65.90% - Time: 35.29s\n",
      "Epoch [3/20] - Loss: 305.69 - Accuracy: 72.57% - Time: 36.22s\n",
      "Epoch [4/20] - Loss: 257.21 - Accuracy: 76.83% - Time: 34.88s\n",
      "Epoch [5/20] - Loss: 216.65 - Accuracy: 80.31% - Time: 36.07s\n",
      "Epoch [6/20] - Loss: 179.43 - Accuracy: 83.93% - Time: 35.99s\n",
      "Epoch [7/20] - Loss: 146.47 - Accuracy: 86.85% - Time: 36.28s\n",
      "Epoch [8/20] - Loss: 120.00 - Accuracy: 89.07% - Time: 36.39s\n",
      "Epoch [9/20] - Loss: 96.59 - Accuracy: 91.29% - Time: 36.93s\n",
      "Epoch [10/20] - Loss: 79.86 - Accuracy: 92.80% - Time: 37.09s\n",
      "Epoch [11/20] - Loss: 63.81 - Accuracy: 94.24% - Time: 35.98s\n",
      "Epoch [12/20] - Loss: 54.07 - Accuracy: 95.24% - Time: 35.58s\n",
      "Epoch [13/20] - Loss: 45.52 - Accuracy: 95.99% - Time: 38.45s\n",
      "Epoch [14/20] - Loss: 43.47 - Accuracy: 96.04% - Time: 37.86s\n",
      "Epoch [15/20] - Loss: 40.34 - Accuracy: 96.41% - Time: 35.80s\n",
      "Epoch [16/20] - Loss: 34.26 - Accuracy: 96.90% - Time: 37.96s\n",
      "Epoch [17/20] - Loss: 32.94 - Accuracy: 97.06% - Time: 35.31s\n",
      "Epoch [18/20] - Loss: 32.16 - Accuracy: 97.11% - Time: 36.67s\n",
      "Epoch [19/20] - Loss: 24.70 - Accuracy: 97.82% - Time: 35.57s\n",
      "Epoch [20/20] - Loss: 27.82 - Accuracy: 97.56% - Time: 35.39s\n",
      "\n",
      "⏱️ Total Training Time: 726.16s\n",
      "\n",
      "📊 GPU Stats for NVIDIA GeForce RTX 4090 Laptop GPU\n",
      "  Load       : 37.0%\n",
      "  Memory Used: 1593.0 MB / 16376.0 MB\n",
      "  Temp       : 51.0 °C\n"
     ]
    }
   ],
   "source": [
    "import torch\n",
    "import torch.nn as nn\n",
    "import torch.optim as optim\n",
    "import torchvision\n",
    "import torchvision.transforms as transforms\n",
    "import time\n",
    "import GPUtil\n",
    "\n",
    "device = torch.device(\"cuda\" if torch.cuda.is_available() else \"cpu\")\n",
    "print(f\"🖥️ Using device: {device}\")\n",
    "\n",
    "# ✅ Load CIFAR-10 dataset (auto-downloads)\n",
    "transform = transforms.Compose([\n",
    "    transforms.ToTensor(),\n",
    "    transforms.Normalize((0.5,), (0.5,))\n",
    "])\n",
    "\n",
    "train_set = torchvision.datasets.CIFAR10(root='./data', train=True, download=True, transform=transform)\n",
    "train_loader = torch.utils.data.DataLoader(train_set, batch_size=128, shuffle=True, num_workers=2)\n",
    "\n",
    "# ✅ Load pretrained ResNet18 and adapt it\n",
    "resnet18 = torchvision.models.resnet18(weights=None)  # or use weights=\"DEFAULT\" for pretrained\n",
    "resnet18.fc = nn.Linear(resnet18.fc.in_features, 10)\n",
    "model = resnet18.to(device)\n",
    "\n",
    "# ✅ Loss and optimizer\n",
    "criterion = nn.CrossEntropyLoss()\n",
    "optimizer = optim.Adam(model.parameters(), lr=0.001)\n",
    "\n",
    "# ✅ Train for multiple epochs\n",
    "epochs = 20\n",
    "total_start = time.time()\n",
    "\n",
    "for epoch in range(epochs):\n",
    "    start = time.time()\n",
    "    model.train()\n",
    "    running_loss = 0.0\n",
    "    correct = 0\n",
    "    total = 0\n",
    "\n",
    "    for i, data in enumerate(train_loader, 0):\n",
    "        inputs, labels = data[0].to(device), data[1].to(device)\n",
    "\n",
    "        optimizer.zero_grad()\n",
    "        outputs = model(inputs)\n",
    "        loss = criterion(outputs, labels)\n",
    "        loss.backward()\n",
    "        optimizer.step()\n",
    "\n",
    "        running_loss += loss.item()\n",
    "        _, predicted = torch.max(outputs.data, 1)\n",
    "        total += labels.size(0)\n",
    "        correct += (predicted == labels).sum().item()\n",
    "\n",
    "    end = time.time()\n",
    "    accuracy = 100 * correct / total\n",
    "    print(f\"Epoch [{epoch + 1}/{epochs}] - Loss: {running_loss:.2f} - Accuracy: {accuracy:.2f}% - Time: {end - start:.2f}s\")\n",
    "\n",
    "total_end = time.time()\n",
    "print(f\"\\n⏱️ Total Training Time: {total_end - total_start:.2f}s\")\n",
    "\n",
    "# ✅ GPU stats\n",
    "try:\n",
    "    gpus = GPUtil.getGPUs()\n",
    "    for gpu in gpus:\n",
    "        print(f\"\\n📊 GPU Stats for {gpu.name}\")\n",
    "        print(f\"  Load       : {gpu.load * 100:.1f}%\")\n",
    "        print(f\"  Memory Used: {gpu.memoryUsed} MB / {gpu.memoryTotal} MB\")\n",
    "        print(f\"  Temp       : {gpu.temperature} °C\")\n",
    "except:\n",
    "    print(\"Install GPUtil for GPU stats: pip install gputil\")\n"
   ]
  },
  {
   "cell_type": "code",
   "execution_count": null,
   "id": "2093d237-1451-4eae-bf5b-cc30aea3877f",
   "metadata": {},
   "outputs": [],
   "source": []
  }
 ],
 "metadata": {
  "kernelspec": {
   "display_name": "Python (GPU Torch)",
   "language": "python",
   "name": "torch_gpu_env"
  },
  "language_info": {
   "codemirror_mode": {
    "name": "ipython",
    "version": 3
   },
   "file_extension": ".py",
   "mimetype": "text/x-python",
   "name": "python",
   "nbconvert_exporter": "python",
   "pygments_lexer": "ipython3",
   "version": "3.8.20"
  }
 },
 "nbformat": 4,
 "nbformat_minor": 5
}
